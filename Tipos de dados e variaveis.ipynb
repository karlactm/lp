{
 "cells": [
  {
   "cell_type": "code",
   "execution_count": null,
   "id": "1a838fc6-5b4e-4296-bf4e-9b6b008c5504",
   "metadata": {},
   "outputs": [],
   "source": [
    "# A funcao input captura a entrada do usuário como uma string"
   ]
  },
  {
   "cell_type": "code",
   "execution_count": null,
   "id": "2e2a69f2-bde7-4809-8a1e-b3fdac8b98e7",
   "metadata": {},
   "outputs": [],
   "source": [
    "nome_usuario = input(\"Digite seu nome:\")\n",
    "print(\"Olá\", nome_usuario)"
   ]
  },
  {
   "cell_type": "code",
   "execution_count": null,
   "id": "9a270744-80e5-4c31-b508-cfa9ee36ac55",
   "metadata": {},
   "outputs": [],
   "source": [
    "str_entrada = input(\"Digite um número\") # str_entrada é uma string\n",
    "int_entrada = int(str_entrada)\n",
    "print(int_entrada + 5)"
   ]
  },
  {
   "cell_type": "code",
   "execution_count": null,
   "id": "7be398f9-7784-495c-af7d-5f22e705c75a",
   "metadata": {},
   "outputs": [],
   "source": [
    "# Variaveis"
   ]
  },
  {
   "cell_type": "code",
   "execution_count": null,
   "id": "9265547b-e14e-4c89-8dd3-83b1e21e18f3",
   "metadata": {},
   "outputs": [],
   "source": [
    "print(\"Olá\")\n",
    "nome = input(\"Qual é o seu nome?\")\n",
    "print(\"Bem vindo:\", nome)\n",
    "nome = input(\"Qual é o nome da sua cidade natal?\")\n",
    "print(\"Cidade Natal:\", nome)"
   ]
  },
  {
   "cell_type": "code",
   "execution_count": null,
   "id": "9bdd32b3-95a1-499b-8267-6bec2e86466a",
   "metadata": {},
   "outputs": [],
   "source": [
    "# O metodo split divide a string nos espaços, retornando uma lista\n",
    "# Por padrão a string é separada nos espaços em branco"
   ]
  },
  {
   "cell_type": "code",
   "execution_count": null,
   "id": "701c69f1-4681-4ff4-859c-5f78a62a6a6e",
   "metadata": {},
   "outputs": [],
   "source": [
    "var_1, var_2 = input(\"Digite dois valores inteiros:\").split()\n",
    "soma = int(var_1) + int(var_2)\n",
    "print(soma)"
   ]
  },
  {
   "cell_type": "code",
   "execution_count": null,
   "id": "a482eec0-e036-4304-8ac7-0f196146aabe",
   "metadata": {},
   "outputs": [],
   "source": [
    "# O metodo strip remove espaços do início e fim da string"
   ]
  },
  {
   "cell_type": "code",
   "execution_count": null,
   "id": "1f19543e-be89-4d48-aa02-5467c2b2e2a0",
   "metadata": {},
   "outputs": [],
   "source": [
    "print(\" teste \".strip())"
   ]
  },
  {
   "cell_type": "code",
   "execution_count": null,
   "id": "f2f74983-5596-4eff-8cba-a98c738b7176",
   "metadata": {},
   "outputs": [],
   "source": [
    "# O método bit_length retorna o número de bits necessário para representar o inteiro"
   ]
  },
  {
   "cell_type": "code",
   "execution_count": null,
   "id": "2779a641-540c-412d-bd9d-4c3693388641",
   "metadata": {},
   "outputs": [],
   "source": [
    "print(42.bit_length())"
   ]
  },
  {
   "cell_type": "code",
   "execution_count": null,
   "id": "7832b2b9-13a5-4447-9196-59ae2543213b",
   "metadata": {},
   "outputs": [],
   "source": [
    "# Strings podem ser concatenadas com o operador +"
   ]
  },
  {
   "cell_type": "code",
   "execution_count": null,
   "id": "6696af4a-65e6-4cf2-bbf1-e61097cb5108",
   "metadata": {},
   "outputs": [],
   "source": [
    "str_1 = \"Olá \"\n",
    "str_2 = \"Tudo bem?\"\n",
    "str_3 = str_1 + str_2\n",
    "print(str_3)\n",
    "print(\"Bom\" + \" \" + \"Dia\")"
   ]
  },
  {
   "cell_type": "code",
   "execution_count": null,
   "id": "143435d0-3166-4f8f-99d5-f14aba2b2ea0",
   "metadata": {},
   "outputs": [],
   "source": [
    "# O comprimento (número de caracteres) pode ser obtido com len"
   ]
  },
  {
   "cell_type": "code",
   "execution_count": null,
   "id": "9c519ee7-29a3-4f3f-8106-72aa41ddf586",
   "metadata": {},
   "outputs": [],
   "source": [
    "print(len(\"Texto\"))"
   ]
  },
  {
   "cell_type": "code",
   "execution_count": null,
   "id": "c61526d4-c2aa-454d-b6d8-97f47124d5fc",
   "metadata": {},
   "outputs": [],
   "source": [
    "# Podemos acessar cada carácter usando [ e ]. O primeiro caractere de uma string encontra-se na posição [0]"
   ]
  },
  {
   "cell_type": "code",
   "execution_count": null,
   "id": "5c2c1eeb-d852-4130-9576-8ce183c45f65",
   "metadata": {},
   "outputs": [],
   "source": [
    "minha_string = \"Redacao\"\n",
    "print(minha_string[0])\n",
    "print(minha_string[2])"
   ]
  },
  {
   "cell_type": "code",
   "execution_count": null,
   "id": "b4b4e446-6c3e-490b-a3c8-80b84e5bbfb5",
   "metadata": {},
   "outputs": [],
   "source": [
    "# Substrings também podem ser acessadas com o operador de corte (slice)\n",
    "# Conforme o formato minha_string[m:n], onde inicia na posição m e termina na posição n-1"
   ]
  },
  {
   "cell_type": "code",
   "execution_count": 1,
   "id": "afb105ad-a66c-4c98-b9ff-f96b46d9ece7",
   "metadata": {},
   "outputs": [
    {
     "name": "stdout",
     "output_type": "stream",
     "text": [
      "x\n",
      "bac\n"
     ]
    }
   ],
   "source": [
    "minha_string = \"Abacaxi\"\n",
    "print(minha_string[5]) # Carácter na posição 5\n",
    "print(minha_string[1:4]) # Substring iniciando na posição 1 e terminando na posicao 3"
   ]
  },
  {
   "cell_type": "code",
   "execution_count": null,
   "id": "0745d374-cb1a-4a17-842a-4adbe1a95c7f",
   "metadata": {},
   "outputs": [],
   "source": [
    "# Podemos repetir uma string utilizando o operador de multiplicação (*)"
   ]
  },
  {
   "cell_type": "code",
   "execution_count": null,
   "id": "092c5875-1d6b-4c72-96f4-8eeac25dfcab",
   "metadata": {},
   "outputs": [],
   "source": [
    "print(\"Olá \" * 10)"
   ]
  },
  {
   "cell_type": "code",
   "execution_count": null,
   "id": "d218975c-ac2b-4f14-85ea-87ebfa4fc86d",
   "metadata": {},
   "outputs": [],
   "source": [
    "# O metodo count conta o número de ocorrências da substring na string"
   ]
  },
  {
   "cell_type": "code",
   "execution_count": null,
   "id": "7cf91f21-499a-4b65-8caa-34df9d68fb88",
   "metadata": {},
   "outputs": [],
   "source": [
    "str_1 = \"Um texto qualquer, não há nada de mais neste texto\"\n",
    "print(str_1.count(' '))\n",
    "print(str_1.count('texto'))"
   ]
  },
  {
   "cell_type": "code",
   "execution_count": null,
   "id": "4a0e69e9-2f35-439c-b03f-c2c581b3e2b2",
   "metadata": {},
   "outputs": [],
   "source": [
    "# O metodo replace troca uma substring(old) por outra substring (new) na string"
   ]
  },
  {
   "cell_type": "code",
   "execution_count": null,
   "id": "6bb84377-20c1-46d9-a453-39e2955f2b62",
   "metadata": {},
   "outputs": [],
   "source": [
    "str_1 = \"Como vai você?\"\n",
    "print(str_1.replace(\"você\", \"ele\"))"
   ]
  },
  {
   "cell_type": "code",
   "execution_count": null,
   "id": "9e670f8c-0676-4b72-aa49-77e5e6be1a81",
   "metadata": {},
   "outputs": [],
   "source": [
    "# O metodo find retorna a posição do primeiro carácter da ocorrência da substring na string, ou -1 caso não ocorra o casamento"
   ]
  },
  {
   "cell_type": "code",
   "execution_count": null,
   "id": "4c78e22a-b671-49b2-beb2-13c60d91666d",
   "metadata": {},
   "outputs": [],
   "source": [
    "str_1 = \"Como vai você?\"\n",
    "print(str_1.find(\"vai\"))\n",
    "print(str_1.find(\"Texto não existente\"))"
   ]
  },
  {
   "cell_type": "code",
   "execution_count": null,
   "id": "791911d6-b164-4c3d-a007-1bae87c38b3e",
   "metadata": {},
   "outputs": [],
   "source": [
    "# Comparacao de strings com ‘==’ (se são iguais) ou ‘!=’ (se são diferentes)"
   ]
  },
  {
   "cell_type": "code",
   "execution_count": null,
   "id": "0b83a1a4-e24c-4af3-af8a-a4804ec822ec",
   "metadata": {},
   "outputs": [],
   "source": [
    "print(\"Yuri\" == \"Yuri\")\n",
    "print(\"Yuri\" != \"Rodolfo\")\n",
    "print(\"Yuri\" == \"Rodolfo\")"
   ]
  },
  {
   "cell_type": "code",
   "execution_count": null,
   "id": "914b4197-f8af-41bb-a7b9-0ce114c3683c",
   "metadata": {},
   "outputs": [],
   "source": [
    "# Podemos utlizar o metodo format para formatar uma string, onde ocorrências de {} são substituídas pelos demais argumentos passados"
   ]
  },
  {
   "cell_type": "code",
   "execution_count": null,
   "id": "b11af789-b538-4f1b-959a-1c848845d755",
   "metadata": {},
   "outputs": [],
   "source": [
    "str_1 = \"Autor: {}, data: {}, titulo: {}\"\n",
    "print(str_1.format(\"Maria\", \"01/01/2020\", \"Python\"))"
   ]
  },
  {
   "cell_type": "code",
   "execution_count": null,
   "id": "8013e4ed-5f9d-4a96-947d-2c6dc6af8097",
   "metadata": {},
   "outputs": [],
   "source": [
    "# Em (.2f) dizemos que queremos duas casas decimais (.2) de um número decimal com ponto fixo (f)."
   ]
  },
  {
   "cell_type": "code",
   "execution_count": null,
   "id": "c3e0e050-7c0b-453f-ab74-e90955522f23",
   "metadata": {},
   "outputs": [],
   "source": [
    "print(\"Valor: {:.2f}\".format(3.222222))"
   ]
  },
  {
   "cell_type": "code",
   "execution_count": null,
   "id": "52afe161-7628-4f9d-949b-6c37622f0005",
   "metadata": {},
   "outputs": [],
   "source": [
    "# Tipos de números em python"
   ]
  },
  {
   "cell_type": "code",
   "execution_count": null,
   "id": "8c04ef7b-8a85-49f7-a42a-5d0fd1976449",
   "metadata": {},
   "outputs": [],
   "source": [
    "# Tipo inteiro\n",
    "i = int(\"42\")\n",
    "print(i, type(i))"
   ]
  },
  {
   "cell_type": "code",
   "execution_count": null,
   "id": "8df77315-6c5a-4571-b5fb-959a9c9cd595",
   "metadata": {},
   "outputs": [],
   "source": [
    "# Tipo flutuante\n",
    "i = int(42.777)\n",
    "print(i, type(i))"
   ]
  },
  {
   "cell_type": "code",
   "execution_count": null,
   "id": "d0a629a2-6ac4-4b8c-b8d2-fcbaf2dd1e00",
   "metadata": {},
   "outputs": [],
   "source": [
    "# Operadores de atribuição substituem o valor da variável pelo resultado de alguma operação\n",
    "#  +=: Adiciona um valor da variável\n",
    "# -=: Subtrai um valor da variável\n",
    "# *=: Multiplica a variável por um valor\n",
    "# /=: Divide a variável por um valor\n",
    "# //=: Divide a variável por um valor (utilizando divisão de inteiros)\n",
    "# %=: Modulo\n",
    "# **: Exponenciação"
   ]
  },
  {
   "cell_type": "code",
   "execution_count": null,
   "id": "d70a9c3a-5c8e-4041-a7ca-96e10d08cadf",
   "metadata": {},
   "outputs": [],
   "source": [
    "x = 6\n",
    "x = x + 2\n",
    "print(x)\n",
    "x += 2\n",
    "print(x)"
   ]
  },
  {
   "cell_type": "code",
   "execution_count": null,
   "id": "164a076e-a690-4f09-a1b8-163741bcbd4c",
   "metadata": {},
   "outputs": [],
   "source": [
    "# Operadore Relacionais\n",
    "# ==: Igual\n",
    "# !=: Diferente\n",
    "# >: Maior que\n",
    "# <: Menor quer\n",
    "# >=: Maior ou igual que\n",
    "# <=: Menor ou igual quer"
   ]
  },
  {
   "cell_type": "code",
   "execution_count": 2,
   "id": "3a1cb612-c818-4fb6-b61d-993d98ada406",
   "metadata": {},
   "outputs": [
    {
     "name": "stdout",
     "output_type": "stream",
     "text": [
      "True\n"
     ]
    }
   ],
   "source": [
    "x = 10\n",
    "y = 6\n",
    "print(x >= y)"
   ]
  },
  {
   "cell_type": "code",
   "execution_count": null,
   "id": "50dd22e3-46a7-4816-8b27-0582aca2b346",
   "metadata": {},
   "outputs": [],
   "source": [
    "# Operadores lógicos\n",
    "# and: Retorna True se ambas as expressões são verdadeiras, senão retorna False.\n",
    "# or: Retorna True se pelo menos uma das expressões é verdadeira, senão retorna False (quando ambas são falsas).\n",
    "# not: Inverte o valor, retorna True se o resultado é falso e False se o resultado é verdadeiro."
   ]
  },
  {
   "cell_type": "code",
   "execution_count": 3,
   "id": "a6599518-f485-46fe-a811-d1c780adfa01",
   "metadata": {},
   "outputs": [
    {
     "name": "stdout",
     "output_type": "stream",
     "text": [
      "True\n"
     ]
    }
   ],
   "source": [
    "x = 10\n",
    "y = 8\n",
    "y += 2\n",
    "print(x == y or  x < y)"
   ]
  }
 ],
 "metadata": {
  "kernelspec": {
   "display_name": "Python 3 (ipykernel)",
   "language": "python",
   "name": "python3"
  },
  "language_info": {
   "codemirror_mode": {
    "name": "ipython",
    "version": 3
   },
   "file_extension": ".py",
   "mimetype": "text/x-python",
   "name": "python",
   "nbconvert_exporter": "python",
   "pygments_lexer": "ipython3",
   "version": "3.13.0"
  }
 },
 "nbformat": 4,
 "nbformat_minor": 5
}
